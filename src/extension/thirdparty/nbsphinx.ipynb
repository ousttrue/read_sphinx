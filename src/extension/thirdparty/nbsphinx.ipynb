{
 "cells": [
  {
   "cell_type": "code",
   "execution_count": null,
   "metadata": {},
   "outputs": [],
   "source": []
  },
  {
   "cell_type": "markdown",
   "metadata": {},
   "source": [
    "# nbsphinx\n",
    "\n",
    "<https://jupyter.org/>\n",
    "\n",
    "-   <https://pypi.org/project/nbsphinx/>\n",
    "    -   <https://nbsphinx.readthedocs.io/en/0.8.8/>\n",
    "\n",
    "-   [nbsphinx の紹介](https://qiita.com/kozo2/items/ec032ad80fe9a994f0ea)\n",
    "-   [VS CodeでJupyterしてみよう](https://atmarkit.itmedia.co.jp/ait/articles/2108/06/news030.html)\n",
    "\n",
    "\n",
    "```{warning}\n",
    "pandoc.exe に PATH を通す必要あり\n",
    "```\n",
    "\n",
    "`conf.py`\n",
    "\n",
    "```py\n",
    "import os\n",
    "if os.name == 'nt':\n",
    "    os.environ['PATH'] = f\"{os.environ['PATH']};C:\\\\Program Files\\\\Pandoc\"\n",
    "```\n",
    "\n"
   ]
  }
 ],
 "metadata": {
  "language_info": {
   "name": "python"
  },
  "orig_nbformat": 4
 },
 "nbformat": 4,
 "nbformat_minor": 2
}
